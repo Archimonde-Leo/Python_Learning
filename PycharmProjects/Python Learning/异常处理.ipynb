{
 "cells": [
  {
   "cell_type": "markdown",
   "metadata": {},
   "source": [
    "# 异常\n",
    "- 广义上的错误分为错误和异常\n",
    "- 错误指的是可以人为避免\n",
    "- 异常是语法逻辑正确的前提下出现的问题\n",
    "- 在python里，异常是一个类，可以处理和使用"
   ]
  },
  {
   "cell_type": "markdown",
   "metadata": {},
   "source": [
    "# python标准异常\n",
    "\n",
    "- 异常名称 描述\n",
    "\n",
    "        BaseException 所有异常的基类\n",
    "        SystemExit 解释器请求退出\n",
    "        KeyboardInterrupt 用户中断执行(通常是输入^C)\n",
    "        Exception 常规错误的基类\n",
    "        StopIteration 迭代器没有更多的值\n",
    "        GeneratorExit 生成器(generator)发生异常来通知退出\n",
    "        StandardError 所有的内建标准异常的基类\n",
    "        ArithmeticError 所有数值计算错误的基类\n",
    "        FloatingPointError 浮点计算错误\n",
    "        OverflowError 数值运算超出最大限制\n",
    "        AssertionError 断言语句失败\n",
    "        AttributeError 对象没有这个属性 ，访问某个对象的不存在的属性的时候\n",
    "        IndexError 序列中没有此索引(index)\n",
    "        KeyError  查找字典中不存在的关键字\n",
    "        NameError 未声明/初始化对象 (没有属性)，访问不存在的变量\n",
    "        OSError 操作系统错误，例如打开一个不存在的文件，FileNotFoundError 就是OSE的子类\n",
    "        SyntaxError Python 语法错误\n",
    "        TypeError 对类型无效的操作，有些类型不同是不能相互进行计算的\n",
    "        ZeroDivisionError 除(或取模)零 (所有数据类型)\n",
    "        EOFError 没有内建输入,到达EOF 标记\n",
    "        EnvironmentError 操作系统错误的基类\n",
    "        IOError 输入/输出操作失败\n",
    "        WindowsError 系统调用失败\n",
    "        ImportError 导入模块/对象失败\n",
    "        LookupError 无效数据查询的基类\n",
    "        MemoryError 内存溢出错误(对于Python 解释器不是致命的)\n",
    "        UnboundLocalError 访问未初始化的本地变量\n",
    "        ReferenceError 弱引用(Weak reference)试图访问已经垃圾回收了的对象\n",
    "        RuntimeError 一般的运行时错误\n",
    "        NotImplementedError 尚未实现的方法\n",
    "        IndentationError 缩进错误\n",
    "        TabError Tab 和空格混用\n",
    "        SystemError 一般的解释器系统错误\n",
    "        ValueError 传入无效的参数\n",
    "        UnicodeError Unicode 相关的错误\n",
    "        UnicodeDecodeError Unicode 解码时的错误\n",
    "        UnicodeEncodeError Unicode 编码时错误\n",
    "        UnicodeTranslateError Unicode 转换时错误\n",
    "        Warning 警告的基类\n",
    "        DeprecationWarning 关于被弃用的特征的警告\n",
    "        FutureWarning 关于构造将来语义会有改变的警告\n",
    "        OverflowWarning 旧的关于自动提升为长整型(long)的警告\n",
    "        PendingDeprecationWarning 关于特性将会被废弃的警告\n",
    "        RuntimeWarning 可疑的运行时行为(runtime behavior)的警告\n",
    "        SyntaxWarning 可疑的语法的警告\n",
    "        UserWarning 用户代码生成的警告"
   ]
  },
  {
   "cell_type": "markdown",
   "metadata": {},
   "source": [
    "# 异常处理\n",
    "- 不能保证程序永远正确运行\n",
    "- 但是，必须保证程序在最坏的情况下得到的问题被妥善处理\n",
    "- python的异常处理模块全部语法为\n",
    "\n",
    "        try：\n",
    "            尝试实现莫个操作\n",
    "            若没有异常，任务可以完成\n",
    "            若出现异常，将异常扔出当前代码块尝试解决\n",
    "        \n",
    "        except 异常类型1：\n",
    "            解决方案1：用于尝试在此处处理异常解决问题\n",
    "            \n",
    "        except 异常类型2：\n",
    "            解决方案2：用于尝试在此处处理异常解决问题\n",
    "            \n",
    "        except (异常类型1，异常类型2...):\n",
    "            解决方案：针对多个异常使用相同处理方式\n",
    "            \n",
    "        except：\n",
    "            解决方案：所有异常的解决方案\n",
    "            \n",
    "        else：\n",
    "            无异常时执行此处代码\n",
    "            \n",
    "        finally：\n",
    "            无论有无异常都要执行的代码\n",
    "            \n",
    "- 流程   \n",
    "    1. 执行try下的语句\n",
    "    2. 如果出现异常，则在except语句里查找对应异常进行处理\n",
    "    3. 如果没有异常，执行else语句\n",
    "    4. 最后执行finally语句\n",
    "- 出except（最少一个）以外，else和finally都可选"
   ]
  },
  {
   "cell_type": "code",
   "execution_count": 4,
   "metadata": {},
   "outputs": [
    {
     "name": "stdout",
     "output_type": "stream",
     "text": [
      "Plz your number:0\n",
      "输入有误\n"
     ]
    }
   ],
   "source": [
    "# 简单异常案例\n",
    "try:\n",
    "    num = int(input(\"Plz your number:\"))\n",
    "    rst = 100/num\n",
    "    print(\"计算结果为{0}\".format(rst))\n",
    "except:\n",
    "    print(\"输入有误\")\n",
    "    exit()"
   ]
  },
  {
   "cell_type": "code",
   "execution_count": 2,
   "metadata": {},
   "outputs": [
    {
     "name": "stdout",
     "output_type": "stream",
     "text": [
      "Plz your number:uuig\n",
      "我也不知道哪出错了\n",
      "invalid literal for int() with base 10: 'uuig'\n",
      "hhhhhhhh\n"
     ]
    }
   ],
   "source": [
    "# 简单异常案例\n",
    "# 给出提示信息\n",
    "try:\n",
    "    num = int(input(\"Plz your number:\"))\n",
    "    rst = 100/num\n",
    "    print(\"计算结果为{0}\".format(rst))\n",
    "# 捕获异常后，把异常实例化，出错信息会在实例里\n",
    "# 注意以下写法\n",
    "# 以下语句是捕获ZeroDivisionError异常并实例化实例e\n",
    "except ZeroDivisionError as e:\n",
    "    print(\"输入有误\")\n",
    "    print(e)\n",
    "    exit()\n",
    "    \n",
    "# 练习：为什么可以直接打印出实例e，此时实例e实现了哪个函数\n",
    "# 多种Error的情况，越具体的错误越往前放\n",
    "# 异常类继承关系中，子类异常往前放，父类异常往后放\n",
    "# 处理异常时，一旦拦截到某一个异常，则不再往下查看，直接进行下一块代码\n",
    "# 即有finally执行，否则执行下一个大语句\n",
    "except NameError as e:\n",
    "    print(\"名字起错了\")\n",
    "    print(e)\n",
    "    exit()\n",
    "except AttributeError as e:\n",
    "    print(\"属性问题\")\n",
    "    print(e)\n",
    "    exit()\n",
    "# 所有异常都继承自Exception\n",
    "# 写下面这句语句，任何异常会被拦截，因此要作为最后一个except\n",
    "except Exception as e:\n",
    "    print(\"我也不知道哪出错了\")\n",
    "    print(e)\n",
    "    \n",
    "except ValueError as e:\n",
    "    print(\"No......\")\n",
    "    \n",
    "print(\"hhhhhhhh\")"
   ]
  },
  {
   "cell_type": "markdown",
   "metadata": {},
   "source": [
    "# 用户手动引发异常\n",
    "- 希望自己引发一个异常时，可以使用raise关键字来引发异常"
   ]
  },
  {
   "cell_type": "code",
   "execution_count": 7,
   "metadata": {},
   "outputs": [
    {
     "name": "stdout",
     "output_type": "stream",
     "text": [
      "我是yty\n",
      "3.1415926\n",
      "ValueError\n",
      "我肯定会被执行的\n"
     ]
    }
   ],
   "source": [
    "# raise案例\n",
    "try:\n",
    "    print(\"我是yty\")\n",
    "    print(3.1415926)\n",
    "    # 手动引发异常\n",
    "    # 语法：raise ErrorClassName\n",
    "    raise ValueError\n",
    "    print(\"还没完\")\n",
    "except NameError as e:\n",
    "    print(\"NameError\")\n",
    "except ValueError as e:\n",
    "    print(\"ValueError\")\n",
    "except Exception as e:\n",
    "    print(\"有异常\")\n",
    "finally:\n",
    "    print(\"我肯定会被执行的\")"
   ]
  },
  {
   "cell_type": "code",
   "execution_count": 9,
   "metadata": {},
   "outputs": [
    {
     "name": "stdout",
     "output_type": "stream",
     "text": [
      "我是yty\n",
      "3.1415926\n",
      "ValueError\n",
      "我肯定会被执行的\n"
     ]
    }
   ],
   "source": [
    "# raise案例-2\n",
    "# 自定义异常\n",
    "# 注意：自己定义异常推荐是系统异常的子类\n",
    "class YtyError(ValueError):\n",
    "    pass\n",
    "try:\n",
    "    print(\"我是yty\")\n",
    "    print(3.1415926)\n",
    "    # 手动引发异常\n",
    "    # 语法：raise ErrorClassName\n",
    "    raise YtyError\n",
    "    print(\"还没完\")\n",
    "except NameError as e:\n",
    "    print(\"NameError\")\n",
    "except ValueError as e:\n",
    "    print(\"ValueError\")\n",
    "except YtyError as e:\n",
    "    print(\"YtyError\")\n",
    "except Exception as e:\n",
    "    print(\"有异常\")\n",
    "finally:\n",
    "    print(\"我肯定会被执行的\")"
   ]
  },
  {
   "cell_type": "code",
   "execution_count": 11,
   "metadata": {},
   "outputs": [
    {
     "name": "stdout",
     "output_type": "stream",
     "text": [
      "Plz your number:9\n",
      "计算结果为11.11111111111111\n",
      "No Exception\n",
      "反正我会被执行\n",
      "Plz your number:0\n",
      "Exception\n",
      "反正我会被执行\n"
     ]
    }
   ],
   "source": [
    "# else语句案例\n",
    "\n",
    "try:\n",
    "    num = int(input(\"Plz your number:\"))\n",
    "    rst = 100/num\n",
    "    print(\"计算结果为{0}\".format(rst))\n",
    "except Exception as e:\n",
    "    print(\"Exception\")\n",
    "    \n",
    "else:\n",
    "    print(\"No Exception\")\n",
    "finally:\n",
    "    print(\"反正我会被执行\")\n",
    "    \n",
    "try:\n",
    "    num = int(input(\"Plz your number:\"))\n",
    "    rst = 100/num\n",
    "    print(\"计算结果为{0}\".format(rst))\n",
    "except Exception as e:\n",
    "    print(\"Exception\")\n",
    "    \n",
    "else:\n",
    "    print(\"No Exception\")\n",
    "finally:\n",
    "    print(\"反正我会被执行\")"
   ]
  },
  {
   "cell_type": "markdown",
   "metadata": {},
   "source": [
    "# 关于自定义异常\n",
    "- 只要是raise异常，则推荐自定义异常\n",
    "- 在自定义异常中，一般包含以下内容：\n",
    "    - 自定义发生异常的异常代码\n",
    "    - 自定义发生异常之后的文字提示\n",
    "    - 自定义发生异常的行数\n",
    "- 最终目的是，一旦发现异常，方便程序员快速定位错误现场"
   ]
  },
  {
   "cell_type": "code",
   "execution_count": null,
   "metadata": {},
   "outputs": [],
   "source": []
  }
 ],
 "metadata": {
  "kernelspec": {
   "display_name": "Python 3",
   "language": "python",
   "name": "python3"
  },
  "language_info": {
   "codemirror_mode": {
    "name": "ipython",
    "version": 3
   },
   "file_extension": ".py",
   "mimetype": "text/x-python",
   "name": "python",
   "nbconvert_exporter": "python",
   "pygments_lexer": "ipython3",
   "version": "3.7.0"
  }
 },
 "nbformat": 4,
 "nbformat_minor": 2
}
