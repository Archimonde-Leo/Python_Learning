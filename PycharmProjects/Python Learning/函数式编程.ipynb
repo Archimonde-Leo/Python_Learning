{
 "cells": [
  {
   "cell_type": "markdown",
   "metadata": {},
   "source": [
    "# Python语言的高级特性\n",
    "## 函数式编程(FunctionalProgramming)\n",
    "- 基于lambda演算的一种编程方式\n",
    "    - 程序中只有函数\n",
    "    - 函数可以作为参数，同样可以作为返回值\n",
    "    - 纯函数式编程语言：LISP，Haskell\n",
    "- Python函数式编程只是借鉴了一些特点，可以理解成一半函数式一半python\n",
    "- 需要讲述\n",
    "    - 高阶函数\n",
    "    - 返回函数\n",
    "    - 匿名函数\n",
    "    - 装饰器\n",
    "    - 偏函数\n"
   ]
  },
  {
   "cell_type": "markdown",
   "metadata": {},
   "source": [
    "### lambda表达式\n",
    "- 函数：最大程度复用代码\n",
    "    - 存在问题：函数太小会比较啰嗦\n",
    "    - 如果函数被调用次数少，会浪费\n",
    "    - 读者的阅读流程中断\n",
    "- lambda表达式（匿名函数）：\n",
    "    - 一个表达式，函数体相对简单\n",
    "    - 不是一个代码块，仅仅是一个表达式\n",
    "    - 可以有多个参数，用逗号隔开"
   ]
  },
  {
   "cell_type": "code",
   "execution_count": 1,
   "metadata": {},
   "outputs": [
    {
     "data": {
      "text/plain": [
       "321"
      ]
     },
     "execution_count": 1,
     "metadata": {},
     "output_type": "execute_result"
    }
   ],
   "source": [
    "# lambda表达式用法\n",
    "# 1.以lambda开头\n",
    "# 2.紧跟一定的参数（如果有的话）\n",
    "# 3.参数后用冒号和表达式主题隔开\n",
    "# 4.只是一个表达式，没有return\n",
    "\n",
    "# 计算一个数字的一百倍\n",
    "stm = lambda x: 100 * x\n",
    "# 跟函数调用一样\n",
    "stm(89)\n",
    "\n",
    "stm2 = lambda x, y, z: x + 10 * y +100 * z\n",
    "stm2(1, 2, 3)"
   ]
  },
  {
   "cell_type": "markdown",
   "metadata": {},
   "source": [
    "### 高阶函数\n",
    "- 函数作为参数作为使用的函数叫做高阶函数"
   ]
  },
  {
   "cell_type": "code",
   "execution_count": 2,
   "metadata": {},
   "outputs": [
    {
     "name": "stdout",
     "output_type": "stream",
     "text": [
      "In funA\n"
     ]
    }
   ],
   "source": [
    "# 函数名是一个变量\n",
    "def funA():\n",
    "    print(\"In funA\")\n",
    "    \n",
    "funB = funA\n",
    "funB()"
   ]
  },
  {
   "cell_type": "markdown",
   "metadata": {},
   "source": [
    "### 以上代码得出的结论\n",
    "- 函数名是变量\n",
    "- funA和funB只是名称不同\n",
    "- 既然函数名是变量，那么可以作为参数传入另一个函数"
   ]
  },
  {
   "cell_type": "code",
   "execution_count": 5,
   "metadata": {},
   "outputs": [
    {
     "name": "stdout",
     "output_type": "stream",
     "text": [
      "2700\n",
      "2700\n"
     ]
    }
   ],
   "source": [
    "# 高阶函数举例\n",
    "# funA是一个普通函数，100倍\n",
    "def funA(n):\n",
    "    return n * 100\n",
    "# 再写一个函数，将传入参数乘以300倍\n",
    "def funB(n):\n",
    "    return funA(n) * 3\n",
    "\n",
    "print(funB(9))\n",
    "# 写一个高阶函数\n",
    "def funC(n, f):\n",
    "    return f(n) * 3\n",
    "print(funC(9, funA))"
   ]
  },
  {
   "cell_type": "markdown",
   "metadata": {},
   "source": [
    "### 系统高阶函数-map\n",
    "- 原义就是映射，即将集合或列表的元素，每一个元素都按照一定规则操作，生成一个新集合或列表\n",
    "- map函数是系统提供的具有映射功能的函数，返回值是一个迭代对象"
   ]
  },
  {
   "cell_type": "code",
   "execution_count": 13,
   "metadata": {},
   "outputs": [
    {
     "name": "stdout",
     "output_type": "stream",
     "text": [
      "[0, 1, 2, 3, 4, 5, 6, 7, 8, 9]\n",
      "[0, 10, 20, 30, 40, 50, 60, 70, 80, 90]\n",
      "0\n",
      "10\n",
      "20\n",
      "30\n",
      "40\n",
      "50\n",
      "60\n",
      "70\n",
      "80\n",
      "90\n",
      "[]\n"
     ]
    }
   ],
   "source": [
    "# map举例\n",
    "# 有一个列表，想对列表里的每一个元素乘以10，并得到新列表\n",
    "l1 = [i for i in range(10)]\n",
    "print(l1)\n",
    "l2 = []\n",
    "for i in l1:\n",
    "    l2.append(i * 10)\n",
    "print(l2)\n",
    "\n",
    "# 利用map实现功能\n",
    "def mulTen(n):\n",
    "    return n * 10\n",
    "# map类型是一个可迭代的结构，可以使用for遍历\n",
    "l3 = map(mulTen, l1)\n",
    "for i in l3:\n",
    "    print(i)\n",
    "    \n",
    "# 以下列表生成式得到的结果为空，为什么\n",
    "l4 = [i for i in l3]\n",
    "print(l4)"
   ]
  },
  {
   "cell_type": "markdown",
   "metadata": {},
   "source": [
    "### reduce\n",
    "- 愿意是归并，缩减\n",
    "- 把一个可迭代的对象最后归并成一个结果\n",
    "- 对于作为参数的要求：必须有两个函数，必须有返回值\n",
    "- reduce([1,2,3,4,5]) == f(f(f(f(1,2),3),4),5)\n",
    "- reduce需要导入functools包"
   ]
  },
  {
   "cell_type": "code",
   "execution_count": 14,
   "metadata": {},
   "outputs": [],
   "source": [
    "from functools import reduce"
   ]
  },
  {
   "cell_type": "code",
   "execution_count": 15,
   "metadata": {},
   "outputs": [
    {
     "name": "stdout",
     "output_type": "stream",
     "text": [
      "15\n"
     ]
    }
   ],
   "source": [
    "# 定义一个操作函数,双输入单输出\n",
    "# 加入操作函数只是相加\n",
    "def myAdd(x,y):\n",
    "    return x + y\n",
    "#对于列表[1,2,3,4,5]执行reduce操作\n",
    "rst = reduce(myAdd,[1,2,3,4,5])\n",
    "print(rst)"
   ]
  },
  {
   "cell_type": "markdown",
   "metadata": {},
   "source": [
    "### filter函数\n",
    "- 过滤函数：对一组数据进行过滤，符合条件的数据会生成新列表并返回\n",
    "- 跟map比较：\n",
    "    - 相同：都对列表每一个元素进行操作\n",
    "    - 不同：\n",
    "        - map会生成一个一对一的列表\n",
    "        - filter只会留下符合条件的\n",
    "    - filter函数语法：\n",
    "        - 利用给定函数判断\n",
    "        - 返回值是布尔值\n",
    "        - 调用格式：filter(f, data)，f是过滤函数，data是数据"
   ]
  },
  {
   "cell_type": "code",
   "execution_count": 6,
   "metadata": {},
   "outputs": [
    {
     "name": "stdout",
     "output_type": "stream",
     "text": [
      "<filter object at 0x7f597d09b278>\n",
      "[4, 56, 564, 54, 456, 6, 78, 546]\n"
     ]
    }
   ],
   "source": [
    "# filter案例\n",
    "# 对于一个列表，提取其中的偶数\n",
    "# 首先定义过滤函数，输入，返回布尔值\n",
    "def isEven(a):\n",
    "    return a % 2 == 0\n",
    "\n",
    "l = [3,4,56,7,564,54,435,25,65,456,6,7,78,546,43,65]\n",
    "rst = filter(isEven, l)\n",
    "\n",
    "# 返回的filter内容是一个封装过的可迭代对象\n",
    "print(rst)\n",
    "print([i for i in rst])"
   ]
  },
  {
   "cell_type": "markdown",
   "metadata": {},
   "source": [
    "### 高阶函数-排序\n",
    "- 把一个序列按照给定算法进行排序\n",
    "- key：在排序前对每一个元素进行key函数运算，可以理解成按照key函数定义的逻辑进行排序\n",
    "- python2和python3差别很大"
   ]
  },
  {
   "cell_type": "code",
   "execution_count": 7,
   "metadata": {},
   "outputs": [
    {
     "name": "stdout",
     "output_type": "stream",
     "text": [
      "Help on built-in function sorted in module builtins:\n",
      "\n",
      "sorted(iterable, /, *, key=None, reverse=False)\n",
      "    Return a new list containing all items from the iterable in ascending order.\n",
      "    \n",
      "    A custom key function can be supplied to customize the sort order, and the\n",
      "    reverse flag can be set to request the result in descending order.\n",
      "\n"
     ]
    }
   ],
   "source": [
    "help(sorted)"
   ]
  },
  {
   "cell_type": "code",
   "execution_count": 9,
   "metadata": {},
   "outputs": [
    {
     "name": "stdout",
     "output_type": "stream",
     "text": [
      "[564, 546, 456, 435, 78, 65, 65, 56, 54, 43, 25, 7, 7, 6, 4, 3]\n",
      "[3, 4, 6, 7, 7, 25, 43, 54, 56, 65, 65, 78, 435, 456, 546, 564]\n"
     ]
    }
   ],
   "source": [
    "# 排序案例\n",
    "a = [3,4,56,7,564,54,435,25,65,456,6,7,78,546,43,65]\n",
    "al = sorted(a, reverse=True)\n",
    "print(al)\n",
    "ah = sorted(a, reverse=False)\n",
    "print(ah)"
   ]
  },
  {
   "cell_type": "code",
   "execution_count": 10,
   "metadata": {},
   "outputs": [
    {
     "name": "stdout",
     "output_type": "stream",
     "text": [
      "[564, 546, 456, -435, -78, -65, 65, 56, 54, 43, 25, -7, 7, 6, 4, 3]\n"
     ]
    }
   ],
   "source": [
    "# 排序案例-2\n",
    "a = [3,4,56,-7,564,54,-435,25,-65,456,6,7,-78,546,43,65]\n",
    "# 按绝对值排序\n",
    "al = sorted(a, key=abs, reverse=True)\n",
    "print(al)"
   ]
  },
  {
   "cell_type": "code",
   "execution_count": 12,
   "metadata": {},
   "outputs": [
    {
     "name": "stdout",
     "output_type": "stream",
     "text": [
      "['YTY', 'YTy', 'Zr', 'da', 'yty', 'zR']\n",
      "['da', 'yty', 'YTy', 'YTY', 'zR', 'Zr']\n"
     ]
    }
   ],
   "source": [
    "# 排序案例-3\n",
    "astr = ['da', 'yty', 'zR', 'YTy', 'YTY', 'Zr']\n",
    "str1 = sorted(astr)\n",
    "print(str1)\n",
    "\n",
    "str2 = sorted(astr, key=str.lower)\n",
    "print(str2)"
   ]
  },
  {
   "cell_type": "markdown",
   "metadata": {},
   "source": [
    "### 返回函数\n",
    "- 函数可以返回具体的值\n",
    "- 函数也可以返回一个函数"
   ]
  },
  {
   "cell_type": "code",
   "execution_count": 22,
   "metadata": {},
   "outputs": [],
   "source": [
    "# 函数作为返回值返回，被返回的函数在函数体内定义\n",
    "def funA():\n",
    "    def funB():\n",
    "        print(\"In funB\")\n",
    "        return 'B'\n",
    "    print(\"In funA\")\n",
    "    return funB"
   ]
  },
  {
   "cell_type": "code",
   "execution_count": 23,
   "metadata": {},
   "outputs": [
    {
     "name": "stdout",
     "output_type": "stream",
     "text": [
      "In funA\n",
      "<class 'function'>\n",
      "<function funA.<locals>.funB at 0x7f59756cd2f0>\n",
      "In funB\n"
     ]
    },
    {
     "data": {
      "text/plain": [
       "'B'"
      ]
     },
     "execution_count": 23,
     "metadata": {},
     "output_type": "execute_result"
    }
   ],
   "source": [
    "# 使用上面定义\n",
    "# 调用funA，返回一个函数funB，赋值给f3\n",
    "f3 = funA()\n",
    "print(type(f3))\n",
    "print(f3)\n",
    "\n",
    "f3()"
   ]
  },
  {
   "cell_type": "code",
   "execution_count": 24,
   "metadata": {},
   "outputs": [],
   "source": [
    "# 返回函数例子-2\n",
    "# args：参数列表\n",
    "# funC定义函数，返回内部定义函数funD\n",
    "# funD使用了外部变量，这个变量是funC的参数\n",
    "def funC( *args):\n",
    "    def funD():\n",
    "        rst = 0\n",
    "        for n in args:\n",
    "            rst += n\n",
    "        return rst\n",
    "    return funD"
   ]
  },
  {
   "cell_type": "code",
   "execution_count": 25,
   "metadata": {},
   "outputs": [
    {
     "name": "stdout",
     "output_type": "stream",
     "text": [
      "95\n"
     ]
    }
   ],
   "source": [
    "f5 = funC(3, 4, 6, 7, 7, 25, 43)\n",
    "print(f5())"
   ]
  },
  {
   "cell_type": "markdown",
   "metadata": {},
   "source": [
    "## 闭包（closure）\n",
    "- 当一个函数在内部定义函数，并且内部的函数应用外部函数的参数或者局部变量，当内部函数被当作返回值的时候，相关参数和变量保存在返回的函数中，这种结构叫闭包\n",
    "- 上述funC是一个典型的闭包结构"
   ]
  },
  {
   "cell_type": "code",
   "execution_count": 33,
   "metadata": {},
   "outputs": [
    {
     "name": "stdout",
     "output_type": "stream",
     "text": [
      "9\n",
      "9\n",
      "9\n"
     ]
    }
   ],
   "source": [
    "# 闭包常见坑\n",
    "def count():\n",
    "    # 列表里存放的是定义的函数\n",
    "    fs = []\n",
    "    for i in range(1,4):\n",
    "        def f():\n",
    "            return i*i\n",
    "        fs.append(f)\n",
    "    return fs\n",
    "\n",
    "f1,f2,f3 = count()\n",
    "print(f1())\n",
    "print(f2())\n",
    "print(f3())"
   ]
  },
  {
   "cell_type": "markdown",
   "metadata": {},
   "source": [
    "### 上边出现的问题\n",
    "- 返回函数引用了变量i，i并非立即执行，而是等到三个函数都返回时才统一使用，此时i等于3，最终调用的时候都返回3*3\n",
    "- 此问题描述成：返回闭包时，返回函数不能引用任何循环变量\n",
    "- 解决方案：再创建一个函数，用该函数的参数绑定循环变量的当前值，无论该循环变量以后如何改变，已经绑定的函数参数不再改变"
   ]
  },
  {
   "cell_type": "code",
   "execution_count": 35,
   "metadata": {},
   "outputs": [
    {
     "name": "stdout",
     "output_type": "stream",
     "text": [
      "1\n",
      "4\n",
      "9\n"
     ]
    }
   ],
   "source": [
    "# 修改上述函数\n",
    "def count1():\n",
    "    def f(j):\n",
    "        def g():\n",
    "            return j*j\n",
    "        return g\n",
    "    fs = []\n",
    "    for i in range(1,4):\n",
    "        fs.append(f(i))\n",
    "    return fs\n",
    "\n",
    "f1,f2,f3 = count1()\n",
    "print(f1())\n",
    "print(f2())\n",
    "print(f3())"
   ]
  },
  {
   "cell_type": "markdown",
   "metadata": {},
   "source": [
    "### 装饰器（Decrator）\n",
    "- 在不改动函数代码的基础上无限扩展函数功能的一种机制，本质上讲，装饰器是一个返回函数的高阶函数\n",
    "- 装饰器的使用：使用@语法，记载每次要扩展的函数定义前使用@+函数名"
   ]
  },
  {
   "cell_type": "code",
   "execution_count": 38,
   "metadata": {},
   "outputs": [],
   "source": [
    "#def hello():\n",
    "#   print('Hello World!')\n",
    "\n",
    "# 现在有新需求\n",
    "# 每次打印hello之前打印当地系统时间\n",
    "# 不准改变现有代码\n",
    "# ==>使用装饰器\n",
    "\n",
    "import time\n",
    "# 高阶函数，以函数作为参数\n",
    "def printTime(f):\n",
    "    def wrapper(*args, **kwargs):\n",
    "        print(\"Time:\", time.ctime())\n",
    "        return f(*args, **kwargs)\n",
    "    return wrapper"
   ]
  },
  {
   "cell_type": "code",
   "execution_count": 39,
   "metadata": {},
   "outputs": [
    {
     "name": "stdout",
     "output_type": "stream",
     "text": [
      "Time: Sat May  4 16:48:44 2019\n",
      "Hello World!\n"
     ]
    }
   ],
   "source": [
    "# 上面定义了装饰器，使用时需要用到@\n",
    "@printTime\n",
    "def hello():\n",
    "    print('Hello World!')\n",
    "    \n",
    "hello()"
   ]
  },
  {
   "cell_type": "code",
   "execution_count": 41,
   "metadata": {},
   "outputs": [
    {
     "name": "stdout",
     "output_type": "stream",
     "text": [
      "Time: Sat May  4 16:51:16 2019\n",
      "1\n",
      "hhhhhh\n"
     ]
    }
   ],
   "source": [
    "# 装饰器的好处是，一旦定义可以装饰任何函数\n",
    "# 一旦被装饰，则把装饰器的功能直接添加到定义函数功能上\n",
    "@printTime\n",
    "def hello2():\n",
    "    print(\"1\")\n",
    "    print(\"hhhhhh\")\n",
    "    \n",
    "hello2()"
   ]
  },
  {
   "cell_type": "code",
   "execution_count": 46,
   "metadata": {},
   "outputs": [
    {
     "name": "stdout",
     "output_type": "stream",
     "text": [
      "我是手动装饰的\n",
      "Time: Sat May  4 16:56:33 2019\n",
      "我是手动装饰的\n",
      "Time: Sat May  4 16:56:33 2019\n",
      "Time: Sat May  4 16:56:33 2019\n",
      "我是手动装饰的\n"
     ]
    }
   ],
   "source": [
    "# 上面使用了系统定义的语法糖\n",
    "# 下面介绍手动执行装饰器\n",
    "def hello3():\n",
    "    print(\"我是手动装饰的\")\n",
    "    \n",
    "hello3()\n",
    "hello3 = printTime(hello3)\n",
    "hello3()\n",
    "\n",
    "f = printTime(hello3)\n",
    "f()"
   ]
  },
  {
   "cell_type": "markdown",
   "metadata": {},
   "source": [
    "### 偏函数\n",
    "- 参数固定的函数，相当于一个有特定参数的函数体\n",
    "- funtools.partial的作用是把一个函数某些参数固定，返回一个新函数"
   ]
  },
  {
   "cell_type": "code",
   "execution_count": 48,
   "metadata": {},
   "outputs": [
    {
     "data": {
      "text/plain": [
       "5349"
      ]
     },
     "execution_count": 48,
     "metadata": {},
     "output_type": "execute_result"
    }
   ],
   "source": [
    "# 把字符串转化成十进制数字\n",
    "int(\"12345\")\n",
    "# 将八进制字符串12345，表示成十进制数字\n",
    "int(\"12345\", base=8)"
   ]
  },
  {
   "cell_type": "code",
   "execution_count": 49,
   "metadata": {},
   "outputs": [
    {
     "data": {
      "text/plain": [
       "74565"
      ]
     },
     "execution_count": 49,
     "metadata": {},
     "output_type": "execute_result"
    }
   ],
   "source": [
    "# 新建一个函数，此函数默认输入的是16进制数字\n",
    "# 要求返回十进制数字\n",
    "def int16(x, base=16):\n",
    "    return int(x, base)\n",
    "\n",
    "int16(\"12345\")"
   ]
  },
  {
   "cell_type": "code",
   "execution_count": 50,
   "metadata": {},
   "outputs": [],
   "source": [
    "import functools"
   ]
  },
  {
   "cell_type": "code",
   "execution_count": 51,
   "metadata": {},
   "outputs": [
    {
     "data": {
      "text/plain": [
       "74565"
      ]
     },
     "execution_count": 51,
     "metadata": {},
     "output_type": "execute_result"
    }
   ],
   "source": [
    "# 实现上面int16的功能\n",
    "int16 = functools.partial(int, base=16)\n",
    "int16(\"12345\")"
   ]
  },
  {
   "cell_type": "code",
   "execution_count": null,
   "metadata": {},
   "outputs": [],
   "source": []
  }
 ],
 "metadata": {
  "kernelspec": {
   "display_name": "Python 3",
   "language": "python",
   "name": "python3"
  },
  "language_info": {
   "codemirror_mode": {
    "name": "ipython",
    "version": 3
   },
   "file_extension": ".py",
   "mimetype": "text/x-python",
   "name": "python",
   "nbconvert_exporter": "python",
   "pygments_lexer": "ipython3",
   "version": "3.7.0"
  }
 },
 "nbformat": 4,
 "nbformat_minor": 2
}
