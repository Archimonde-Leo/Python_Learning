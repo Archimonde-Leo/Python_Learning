{
 "cells": [
  {
   "cell_type": "code",
   "execution_count": 5,
   "metadata": {},
   "outputs": [
    {
     "name": "stdout",
     "output_type": "stream",
     "text": [
      "dana\n"
     ]
    }
   ],
   "source": [
    "class Student():\n",
    "    name = \"dana\"\n",
    "    age = 18\n",
    "    \n",
    "Student.__dict__\n",
    "\n",
    "# 实例化\n",
    "yueyue = Student()\n",
    "yueyue.__dict__\n",
    "print(yueyue.name)"
   ]
  },
  {
   "cell_type": "code",
   "execution_count": 8,
   "metadata": {},
   "outputs": [
    {
     "name": "stdout",
     "output_type": "stream",
     "text": [
      "dana\n",
      "18\n",
      "********************\n",
      "140031787160384\n",
      "94029355877696\n",
      "********************\n",
      "dana\n",
      "18\n",
      "140031787160384\n",
      "94029355877696\n"
     ]
    }
   ],
   "source": [
    "class A():\n",
    "    name = \"dana\"\n",
    "    age = 18\n",
    "    \n",
    "    # 注意say的写法，参数有一个self\n",
    "    def say(self):\n",
    "        self.name = \"aaaa\"\n",
    "        self.age = 200\n",
    "        \n",
    "# 此案例说明类实例的属性和其对象的属性在不对对象实例赋值的情况下指向同一地址\n",
    "\n",
    "# A称为类实例        \n",
    "print(A.name)\n",
    "print(A.age)\n",
    "\n",
    "print(\"*\" * 20)\n",
    "\n",
    "print(id(A.name))\n",
    "print(id(A.age))\n",
    "\n",
    "print(\"*\" * 20)\n",
    "a = A()\n",
    "\n",
    "print(a.name)\n",
    "print(a.age)\n",
    "print(id(a.name))\n",
    "print(id(a.age))\n"
   ]
  },
  {
   "cell_type": "code",
   "execution_count": 12,
   "metadata": {},
   "outputs": [
    {
     "name": "stdout",
     "output_type": "stream",
     "text": [
      "My name is aaaa\n",
      "My age is 200\n",
      "My name is aaaa\n",
      "My age is 200\n"
     ]
    }
   ],
   "source": [
    "class Student():\n",
    "    name = \"dana\"\n",
    "    age = 18\n",
    "    \n",
    "    # 注意say的写法，参数有一个self(事实上self不是python的关键字只是用来指代第一个函数参数)\n",
    "    def say(self):\n",
    "        self.name = \"aaaa\"\n",
    "        self.age = 200\n",
    "        print(\"My name is {0}\".format(self.name))\n",
    "        print(\"My age is {0}\".format(self.age))\n",
    "        \n",
    "    def sayAgain(s):\n",
    "        s.name = \"aaaa\"\n",
    "        s.age = 200\n",
    "        print(\"My name is {0}\".format(s.name))\n",
    "        print(\"My age is {0}\".format(s.age))\n",
    "        \n",
    "# yueyue自动作为第一个参数传入函数\n",
    "yueyue = Student()\n",
    "yueyue.say()\n",
    "yueyue.sayAgain()"
   ]
  },
  {
   "cell_type": "code",
   "execution_count": 17,
   "metadata": {},
   "outputs": [
    {
     "name": "stdout",
     "output_type": "stream",
     "text": [
      "My name is yaona\n",
      "My age is 17\n",
      "My age is 19\n",
      "dana\n",
      "19\n",
      "Nice to see you!\n"
     ]
    }
   ],
   "source": [
    "class Teacher():\n",
    "    name = \"dana\"\n",
    "    age = 19\n",
    "    \n",
    "    def say(self):\n",
    "        self.name = \"yaona\"\n",
    "        self.age = 17\n",
    "        print(\"My name is {0}\".format(self.name))\n",
    "        print(\"My age is {0}\".format(self.age))\n",
    "        # 调用类的成员变量用__class__.变量名# \n",
    "        print(\"My age is {0}\".format(__class__.age))\n",
    "        \n",
    "    def sayAgain():\n",
    "        print(__class__.name)\n",
    "        print(__class__.age)\n",
    "        print(\"Nice to see you!\")\n",
    "        \n",
    "t = Teacher()\n",
    "t.say()\n",
    "# 调用绑定类的函数要使用类名\n",
    "Teacher.sayAgain()"
   ]
  },
  {
   "cell_type": "code",
   "execution_count": 23,
   "metadata": {},
   "outputs": [
    {
     "name": "stdout",
     "output_type": "stream",
     "text": [
      "aaaa\n",
      "200\n",
      "aaaa\n",
      "200\n",
      "yty\n",
      "24\n",
      "bbbb\n",
      "90\n"
     ]
    }
   ],
   "source": [
    "# 关于self的案例\n",
    "\n",
    "class A():\n",
    "    name = \"yty\"\n",
    "    age = 24\n",
    "    \n",
    "    def __init__(self):\n",
    "        self.name = \"aaaa\"\n",
    "        self.age = 200\n",
    "    \n",
    "    def say(self):\n",
    "        print(self.name)\n",
    "        print(self.age)\n",
    "        \n",
    "class B():\n",
    "    name = \"bbbb\"\n",
    "    age = 90\n",
    "    \n",
    "a = A()\n",
    "a.say()\n",
    "# 此时将a作为self传入\n",
    "A.say(a)\n",
    "# 同样A也可以作为self传入\n",
    "A.say(A)\n",
    "# B同样有name和age属性，所以不会出错\n",
    "A.say(B)\n",
    "\n",
    "# 以上代码利用了鸭子模型，具有相同属性即可看作同一类型，不会像c++和java强制类型检查"
   ]
  },
  {
   "cell_type": "code",
   "execution_count": 26,
   "metadata": {},
   "outputs": [
    {
     "name": "stdout",
     "output_type": "stream",
     "text": [
      "yty\n",
      "{'__module__': '__main__', 'name': 'yty', '_Person__age': 18, '__dict__': <attribute '__dict__' of 'Person' objects>, '__weakref__': <attribute '__weakref__' of 'Person' objects>, '__doc__': None}\n",
      "19\n"
     ]
    }
   ],
   "source": [
    "# 私有变量案例\n",
    "\n",
    "class Person():\n",
    "                # name是共有成员\n",
    "                name = \"yty\"\n",
    "                # __age是私有成员\n",
    "                __age = 18\n",
    "                \n",
    "p = Person()\n",
    "# name是共有成员\n",
    "print(p.name)\n",
    "# __age是私有成员,查看name mangling策略的改名_Person__age\n",
    "print(Person.__dict__)\n",
    "p._Person__age = 19\n",
    "print(p._Person__age)"
   ]
  },
  {
   "cell_type": "code",
   "execution_count": 6,
   "metadata": {},
   "outputs": [
    {
     "name": "stdout",
     "output_type": "stream",
     "text": [
      "yty\n",
      "yty\n",
      "sec\n",
      "Sleeping......\n",
      "9582\n",
      "attention\n",
      "yty\n"
     ]
    }
   ],
   "source": [
    "# 继承的语法\n",
    "# python中，任何类都有一个共同的父类叫object\n",
    "class Person():\n",
    "    name = \"Noname\"\n",
    "    __score = 0 # 成绩，私有\n",
    "    _petname = \"sec\" # 小名，受保护的\n",
    "    def sleep(self):\n",
    "        print(\"Sleeping......\")\n",
    "# 父类写在括号里\n",
    "class Teacher(Person):\n",
    "    teacher_id = \"9582\"\n",
    "    name = \"yty\"\n",
    "    def make_test(self):\n",
    "        print(\"attention\")\n",
    "\n",
    "t = Teacher()\n",
    "print(t.name)\n",
    "print(Teacher.name)\n",
    "\n",
    "# 受保护的子类访问\n",
    "print(t._petname)\n",
    "\n",
    "t.sleep()\n",
    "\n",
    "# 子类独有\n",
    "print(t.teacher_id)\n",
    "t.make_test()\n",
    "\n",
    "# 子类和父类定义同一名称变量，优先使用子类本身\n",
    "print(t.name)"
   ]
  },
  {
   "cell_type": "code",
   "execution_count": 8,
   "metadata": {},
   "outputs": [
    {
     "name": "stdout",
     "output_type": "stream",
     "text": [
      "Make some money\n",
      "attention\n"
     ]
    }
   ],
   "source": [
    "# 子类扩充父类功能\n",
    "class Person():\n",
    "    name = \"Noname\"\n",
    "    __score = 0 # 成绩，私有\n",
    "    _petname = \"sec\" # 小名，受保护的\n",
    "    def sleep(self):\n",
    "        print(\"Sleeping......\")\n",
    "    def work(self):\n",
    "        print(\"Make some money\")\n",
    "# 父类写在括号里\n",
    "class Teacher(Person):\n",
    "    teacher_id = \"9582\"\n",
    "    name = \"yty\"\n",
    "    def make_test(self):\n",
    "        print(\"attention\")\n",
    "    def work(self):\n",
    "        # 扩充父类的功能，只需调用父类的功能\n",
    "        # Person.work(self)\n",
    "        # 另一种方法 super代表得到父类\n",
    "        super().work()\n",
    "        self.make_test()\n",
    "        \n",
    "        \n",
    "t = Teacher()\n",
    "t.work()"
   ]
  },
  {
   "cell_type": "code",
   "execution_count": 9,
   "metadata": {},
   "outputs": [
    {
     "name": "stdout",
     "output_type": "stream",
     "text": [
      "I am init in dog\n"
     ]
    }
   ],
   "source": [
    "# 构造函数的概念\n",
    "class Dog():\n",
    "    # __init__就是构造函数\n",
    "    # 每次实例化第一个被调用\n",
    "    # 主要工作是初始化\n",
    "    def __init__(self):\n",
    "        print(\"I am init in dog\")\n",
    "\n",
    "#实例化时，括号内参数要跟构造函数参数匹配\n",
    "kaka = Dog()"
   ]
  },
  {
   "cell_type": "code",
   "execution_count": 10,
   "metadata": {},
   "outputs": [
    {
     "name": "stdout",
     "output_type": "stream",
     "text": [
      "I am init in dog\n"
     ]
    }
   ],
   "source": [
    "# 继承中的构造函数-1\n",
    "class Animal():\n",
    "    pass\n",
    "\n",
    "class Buru(Animal):\n",
    "    pass\n",
    "\n",
    "class Dog(Buru):\n",
    "    # __init__就是构造函数\n",
    "    # 每次实例化第一个被调用\n",
    "    # 主要工作是初始化\n",
    "    def __init__(self):\n",
    "        print(\"I am init in dog\")\n",
    "        \n",
    "kaka = Dog()"
   ]
  },
  {
   "cell_type": "code",
   "execution_count": 14,
   "metadata": {},
   "outputs": [
    {
     "name": "stdout",
     "output_type": "stream",
     "text": [
      "I am init in dog\n",
      "Buru\n"
     ]
    }
   ],
   "source": [
    "# 继承中的构造函数-2\n",
    "class Animal():\n",
    "    def __init__(self):\n",
    "        print(\"Animal\")\n",
    "\n",
    "class Buru(Animal):\n",
    "    def __init__(self):\n",
    "        print(\"Buru\") \n",
    "\n",
    "class Dog(Buru):\n",
    "    # __init__就是构造函数\n",
    "    # 每次实例化第一个被调用\n",
    "    # 主要工作是初始化\n",
    "    def __init__(self):\n",
    "        print(\"I am init in dog\")\n",
    "\n",
    "class Cat(Buru):\n",
    "    pass\n",
    "        \n",
    "kaka = Dog()\n",
    "caca = Cat()# Cat没有构造函数，向上查找到Buru的构造函数"
   ]
  },
  {
   "cell_type": "code",
   "execution_count": 55,
   "metadata": {},
   "outputs": [
    {
     "name": "stdout",
     "output_type": "stream",
     "text": [
      "I am init in dog\n",
      "Buru caca\n"
     ]
    }
   ],
   "source": [
    "# 继承中的构造函数-3\n",
    "class Animal():\n",
    "    def __init__(self):\n",
    "        print(\"Animal\")\n",
    "\n",
    "class Buru(Animal):\n",
    "    def __init__(self,name):\n",
    "        print(\"Buru {0}\".format(name)) \n",
    "\n",
    "class Dog(Buru):\n",
    "    # __init__就是构造函数\n",
    "    # 每次实例化第一个被调用\n",
    "    # 主要工作是初始化\n",
    "    def __init__(self):\n",
    "        print(\"I am init in dog\")\n",
    "\n",
    "class Cat(Buru):\n",
    "    pass\n",
    "        \n",
    "kaka = Dog()\n",
    "caca = Cat(\"caca\")"
   ]
  },
  {
   "cell_type": "code",
   "execution_count": 18,
   "metadata": {},
   "outputs": [
    {
     "name": "stdout",
     "output_type": "stream",
     "text": [
      "I am init in dog\n",
      "Animal\n"
     ]
    }
   ],
   "source": [
    "# 继承中的构造函数-4\n",
    "class Animal():\n",
    "    def __init__(self):\n",
    "        print(\"Animal\")\n",
    "\n",
    "class Buru(Animal):\n",
    "    pass \n",
    "\n",
    "class Dog(Buru):\n",
    "    # __init__就是构造函数\n",
    "    # 每次实例化第一个被调用\n",
    "    # 主要工作是初始化\n",
    "    def __init__(self):\n",
    "        print(\"I am init in dog\")\n",
    "\n",
    "class Cat(Buru):\n",
    "    pass\n",
    "        \n",
    "kaka = Dog()\n",
    "caca = Cat()"
   ]
  },
  {
   "cell_type": "code",
   "execution_count": 57,
   "metadata": {},
   "outputs": [
    {
     "name": "stdout",
     "output_type": "stream",
     "text": [
      "Buru\n",
      "I am init in kaka\n",
      "Buru\n",
      "I am init in caca\n"
     ]
    }
   ],
   "source": [
    "# 继承中的构造函数-5\n",
    "class Animal():\n",
    "    def __init__(self):\n",
    "        print(\"Animal\")\n",
    "\n",
    "class Buru(Animal):\n",
    "    def __init__(self,name):\n",
    "        print(\"Buru\") \n",
    "\n",
    "class Dog(Buru):\n",
    "    def __init__(self,name):\n",
    "        #首先调用父类的构造函数\n",
    "        Buru.__init__(self,name)\n",
    "        #其次增加自己的功能\n",
    "        print(\"I am init in {0}\".format(name))\n",
    "        \n",
    "class Cat(Buru):\n",
    "    def __init__(self,name):\n",
    "        #首先调用父类的构造函数\n",
    "        super().__init__(name)\n",
    "        #其次增加自己的功能\n",
    "        print(\"I am init in {0}\".format(name))\n",
    "        \n",
    "kaka = Dog(\"kaka\")\n",
    "caca = Cat(\"caca\")"
   ]
  },
  {
   "cell_type": "code",
   "execution_count": 19,
   "metadata": {},
   "outputs": [
    {
     "name": "stdout",
     "output_type": "stream",
     "text": [
      "<class 'type'>\n",
      "Help on class super in module builtins:\n",
      "\n",
      "class super(object)\n",
      " |  super() -> same as super(__class__, <first argument>)\n",
      " |  super(type) -> unbound super object\n",
      " |  super(type, obj) -> bound super object; requires isinstance(obj, type)\n",
      " |  super(type, type2) -> bound super object; requires issubclass(type2, type)\n",
      " |  Typical use to call a cooperative superclass method:\n",
      " |  class C(B):\n",
      " |      def meth(self, arg):\n",
      " |          super().meth(arg)\n",
      " |  This works for class methods too:\n",
      " |  class C(B):\n",
      " |      @classmethod\n",
      " |      def cmeth(cls, arg):\n",
      " |          super().cmeth(arg)\n",
      " |  \n",
      " |  Methods defined here:\n",
      " |  \n",
      " |  __get__(self, instance, owner, /)\n",
      " |      Return an attribute of instance, which is of type owner.\n",
      " |  \n",
      " |  __getattribute__(self, name, /)\n",
      " |      Return getattr(self, name).\n",
      " |  \n",
      " |  __init__(self, /, *args, **kwargs)\n",
      " |      Initialize self.  See help(type(self)) for accurate signature.\n",
      " |  \n",
      " |  __repr__(self, /)\n",
      " |      Return repr(self).\n",
      " |  \n",
      " |  ----------------------------------------------------------------------\n",
      " |  Static methods defined here:\n",
      " |  \n",
      " |  __new__(*args, **kwargs) from builtins.type\n",
      " |      Create and return a new object.  See help(type) for accurate signature.\n",
      " |  \n",
      " |  ----------------------------------------------------------------------\n",
      " |  Data descriptors defined here:\n",
      " |  \n",
      " |  __self__\n",
      " |      the instance invoking super(); may be None\n",
      " |  \n",
      " |  __self_class__\n",
      " |      the type of the instance invoking super(); may be None\n",
      " |  \n",
      " |  __thisclass__\n",
      " |      the class invoking super()\n",
      "\n"
     ]
    }
   ],
   "source": [
    "print(type(super))\n",
    "help(super)"
   ]
  },
  {
   "cell_type": "code",
   "execution_count": 22,
   "metadata": {},
   "outputs": [
    {
     "name": "stdout",
     "output_type": "stream",
     "text": [
      "(<class '__main__.A'>, <class 'object'>)\n",
      "(<class '__main__.B'>, <class '__main__.A'>, <class 'object'>)\n"
     ]
    }
   ],
   "source": [
    "class A():\n",
    "    pass\n",
    "\n",
    "class B(A):\n",
    "    pass\n",
    "\n",
    "class C(B,A):\n",
    "print(A.__mro__)\n",
    "print(B.__mro__)"
   ]
  },
  {
   "cell_type": "code",
   "execution_count": 25,
   "metadata": {},
   "outputs": [
    {
     "name": "stdout",
     "output_type": "stream",
     "text": [
      "i am flying......\n",
      "i am swimming......\n"
     ]
    }
   ],
   "source": [
    "# 多继承的例子\n",
    "# 子类可以直接拥有父类的属性和方法，私有属性和方法除外\n",
    "class Fish():\n",
    "    def __init__(self,name):\n",
    "        self.name = name\n",
    "    def swim(self):\n",
    "        print(\"i am swimming......\")\n",
    "        \n",
    "class Bird():\n",
    "    def __init__(self,name):\n",
    "        self.name = name\n",
    "    def fly(self):\n",
    "        print(\"i am flying......\")\n",
    "        \n",
    "class Person():\n",
    "    def __init__(self,name):\n",
    "        self.name = name\n",
    "    def work(self):\n",
    "        print(\"Working......\")\n",
    "        \n",
    "class Superman(Person,Bird,Fish):\n",
    "    def __init__(self,name):\n",
    "        self.name = name\n",
    "\n",
    "class Swimman(Person,Fish):\n",
    "    def __init__(self,name):\n",
    "        self.name = name\n",
    "        \n",
    "        \n",
    "s = Superman(\"yty\")\n",
    "s.fly()\n",
    "s.swim()"
   ]
  },
  {
   "cell_type": "code",
   "execution_count": 28,
   "metadata": {},
   "outputs": [],
   "source": [
    "# 菱形问题\n",
    "class A():\n",
    "    pass\n",
    "class B(A):\n",
    "    pass\n",
    "class C(A):\n",
    "    pass\n",
    "\n",
    "class D(B,C):\n",
    "    pass"
   ]
  },
  {
   "cell_type": "code",
   "execution_count": 59,
   "metadata": {},
   "outputs": [
    {
     "name": "stdout",
     "output_type": "stream",
     "text": [
      "i am swimming......\n",
      "i am swimming......\n",
      "i am flying......\n",
      "i am flying......\n"
     ]
    }
   ],
   "source": [
    "# Mixin方法\n",
    "# 正常多继承\n",
    "class Fish():\n",
    "    def __init__(self,name):\n",
    "        self.name = name\n",
    "    def swim(self):\n",
    "        print(\"i am swimming......\")\n",
    "        \n",
    "class Bird():\n",
    "    def __init__(self,name):\n",
    "        self.name = name\n",
    "    def fly(self):\n",
    "        print(\"i am flying......\")\n",
    "        \n",
    "class Person():\n",
    "    def __init__(self,name):\n",
    "        self.name = name\n",
    "    def work(self):\n",
    "        print(\"Working......\")\n",
    "        \n",
    "class Superman(Person,Bird,Fish):\n",
    "    def __init__(self,name):\n",
    "        self.name = name\n",
    "        \n",
    "# Mixin写法        \n",
    "class FishMixin():\n",
    "    def swim(self):\n",
    "        print(\"i am swimming......\")\n",
    "        \n",
    "class BirdMixin():\n",
    "    def fly(self):\n",
    "        print(\"i am flying......\")\n",
    "        \n",
    "class PersonMixin():\n",
    "    def work(self):\n",
    "        print(\"Working......\")\n",
    "        \n",
    "class Superman2(PersonMixin,BirdMixin,FishMixin):\n",
    "    def __init__(self,name):\n",
    "        self.name = name\n",
    "\n",
    "# 结果完全相同\n",
    "s1 = Superman(\"yty\")\n",
    "s2 = Superman2(\"yty2\")\n",
    "s1.swim()\n",
    "s2.swim()\n",
    "s1.fly()\n",
    "s2.fly()"
   ]
  },
  {
   "cell_type": "code",
   "execution_count": 61,
   "metadata": {},
   "outputs": [
    {
     "name": "stdout",
     "output_type": "stream",
     "text": [
      "True\n",
      "False\n"
     ]
    }
   ],
   "source": [
    "# issubclass\n",
    "class A():\n",
    "    pass\n",
    "class B(A):\n",
    "    pass\n",
    "class C():\n",
    "    pass\n",
    "\n",
    "print(issubclass(B,A))\n",
    "print(issubclass(C,A))"
   ]
  },
  {
   "cell_type": "code",
   "execution_count": 62,
   "metadata": {},
   "outputs": [
    {
     "name": "stdout",
     "output_type": "stream",
     "text": [
      "True\n",
      "False\n"
     ]
    }
   ],
   "source": [
    "# isinstance\n",
    "class A():\n",
    "    pass\n",
    "a = A()\n",
    "\n",
    "print(isinstance(a,A))\n",
    "print(isinstance(A,A))"
   ]
  },
  {
   "cell_type": "code",
   "execution_count": 64,
   "metadata": {},
   "outputs": [
    {
     "name": "stdout",
     "output_type": "stream",
     "text": [
      "True\n",
      "False\n"
     ]
    }
   ],
   "source": [
    "# hasattr\n",
    "class A():\n",
    "    name = \"Noname\"\n",
    "\n",
    "a = A()\n",
    "print(hasattr(a,\"name\"))\n",
    "print(hasattr(a,\"age\"))"
   ]
  },
  {
   "cell_type": "code",
   "execution_count": 65,
   "metadata": {},
   "outputs": [
    {
     "data": {
      "text/plain": [
       "['__class__',\n",
       " '__delattr__',\n",
       " '__dict__',\n",
       " '__dir__',\n",
       " '__doc__',\n",
       " '__eq__',\n",
       " '__format__',\n",
       " '__ge__',\n",
       " '__getattribute__',\n",
       " '__gt__',\n",
       " '__hash__',\n",
       " '__init__',\n",
       " '__init_subclass__',\n",
       " '__le__',\n",
       " '__lt__',\n",
       " '__module__',\n",
       " '__ne__',\n",
       " '__new__',\n",
       " '__reduce__',\n",
       " '__reduce_ex__',\n",
       " '__repr__',\n",
       " '__setattr__',\n",
       " '__sizeof__',\n",
       " '__str__',\n",
       " '__subclasshook__',\n",
       " '__weakref__']"
      ]
     },
     "execution_count": 65,
     "metadata": {},
     "output_type": "execute_result"
    }
   ],
   "source": [
    "# dir\n",
    "class A():\n",
    "    pass\n",
    "a = A()\n",
    "dir(a)"
   ]
  },
  {
   "cell_type": "code",
   "execution_count": 14,
   "metadata": {},
   "outputs": [
    {
     "name": "stdout",
     "output_type": "stream",
     "text": [
      "yty\n"
     ]
    }
   ],
   "source": [
    "# 变量的三种用法\n",
    "\n",
    "class A():\n",
    "    def __init__(self):\n",
    "        self.name = \"haha\"\n",
    "        self.age = 18\n",
    "        \n",
    "a = A()\n",
    "# 属性的三种用法 赋值 读取 删除\n",
    "a.name = \"yty\"\n",
    "print(a.name)\n",
    "del a.name"
   ]
  },
  {
   "cell_type": "code",
   "execution_count": 15,
   "metadata": {},
   "outputs": [
    {
     "name": "stdout",
     "output_type": "stream",
     "text": [
      "haha\n",
      "我被读取了\n",
      "haha\n"
     ]
    }
   ],
   "source": [
    "# 类属性 property\n",
    "# 应用场景：\n",
    "# 除三种基本操作外，还想增加一些附加操作，可以使用property\n",
    "class A():\n",
    "    def __init__(self):\n",
    "        self.name = \"haha\"\n",
    "        self.age = 18\n",
    "        \n",
    "    def fget(self):\n",
    "        print(\"我被读取了\")\n",
    "        return self.name\n",
    "    \n",
    "    def fset(self):\n",
    "        print(\"我被写入了\")\n",
    "        self.name = \"学员：\" + name\n",
    "        \n",
    "    def fdel(self):\n",
    "        pass\n",
    "    # 三个参数分别代表读取，写入，删除时调用的函数\n",
    "    name2 = property(fget, fset, fdel, \"property\")\n",
    "    \n",
    "a = A()\n",
    "print(a.name)\n",
    "print(a.name2)"
   ]
  },
  {
   "cell_type": "code",
   "execution_count": 3,
   "metadata": {},
   "outputs": [
    {
     "name": "stdout",
     "output_type": "stream",
     "text": [
      "Hi,my name is YTY\n",
      "Hi,my name is ZR\n"
     ]
    }
   ],
   "source": [
    "# 属性案例-1\n",
    "# Student类的name属性格式不统一\n",
    "class Student():\n",
    "    def __init__(self,name,age):\n",
    "        self.name = name\n",
    "        self.age = age\n",
    "        \n",
    "        # 如果不想修改代码\n",
    "        self.setName(name)\n",
    "        \n",
    "    # 介绍自己\n",
    "    def intro(self):\n",
    "        print(\"Hi,my name is {0}\".format(self.name))\n",
    "    \n",
    "    def setName(self,name):\n",
    "        self.name = name.upper()\n",
    "        \n",
    "s1 = Student(\"YTY\",19)\n",
    "s2 = Student(\"zr\",24)\n",
    "s1.intro()\n",
    "s2.intro()"
   ]
  },
  {
   "cell_type": "code",
   "execution_count": 13,
   "metadata": {},
   "outputs": [
    {
     "name": "stdout",
     "output_type": "stream",
     "text": [
      "YTYYTY\n"
     ]
    }
   ],
   "source": [
    "# 属性案例-2\n",
    "# 定义一个Person类，具有name，age属性\n",
    "# 对于任意输入的姓名一律大写保存\n",
    "# 年龄统一整数保存\n",
    "# x = property(fget,sget,fdel,doc)\n",
    "class Person():\n",
    "    # 函数名可任意\n",
    "    def fget(self):\n",
    "        return self._name * 2\n",
    "    \n",
    "    def fset(self, name):\n",
    "        self._name = name.upper()\n",
    "        \n",
    "    def fdel(self):\n",
    "        self._name = \"NoName\"\n",
    "        \n",
    "    name = property(fget, fset, fdel, \"对name进行的操作\")\n",
    "\n",
    "p1 = Person()\n",
    "p1.name = \"Yty\"\n",
    "print(p1.name)"
   ]
  },
  {
   "cell_type": "code",
   "execution_count": null,
   "metadata": {},
   "outputs": [],
   "source": [
    "# 练习\n",
    "# 用户输入年龄，可以输入整数，小数，浮点数\n",
    "# 统一保存成整数"
   ]
  },
  {
   "cell_type": "code",
   "execution_count": 17,
   "metadata": {},
   "outputs": [
    {
     "name": "stdout",
     "output_type": "stream",
     "text": [
      "\n",
      "    这是说明文当\n",
      "    \n",
      "{'__module__': '__main__', '__doc__': '\\n    这是说明文当\\n    ', 'fget': <function Person.fget at 0x7fafa00a1950>, 'fset': <function Person.fset at 0x7fafa00a18c8>, 'fdel': <function Person.fdel at 0x7fafa00a19d8>, 'name': <property object at 0x7fafa00b1f48>, '__dict__': <attribute '__dict__' of 'Person' objects>, '__weakref__': <attribute '__weakref__' of 'Person' objects>}\n",
      "Person\n",
      "(<class 'object'>,)\n"
     ]
    }
   ],
   "source": [
    "# 类的内置属性\n",
    "class Person():\n",
    "    '''\n",
    "    这是说明文当\n",
    "    '''\n",
    "    # 函数名可任意\n",
    "    def fget(self):\n",
    "        return self._name * 2\n",
    "    \n",
    "    def fset(self, name):\n",
    "        self._name = name.upper()\n",
    "        \n",
    "    def fdel(self):\n",
    "        self._name = \"NoName\"\n",
    "        \n",
    "    name = property(fget, fset, fdel, \"对name进行的操作\")\n",
    "    \n",
    "print(Person.__doc__)\n",
    "print(Person.__dict__)\n",
    "print(Person.__name__)\n",
    "print(Person.__bases__)"
   ]
  },
  {
   "cell_type": "code",
   "execution_count": 20,
   "metadata": {},
   "outputs": [
    {
     "name": "stdout",
     "output_type": "stream",
     "text": [
      "构造函数\n"
     ]
    }
   ],
   "source": [
    "# __init__举例\n",
    "class A():\n",
    "    def __init__(self, name = 0):\n",
    "        print(\"构造函数\")\n",
    "        \n",
    "a = A()"
   ]
  },
  {
   "cell_type": "code",
   "execution_count": 21,
   "metadata": {},
   "outputs": [
    {
     "name": "stdout",
     "output_type": "stream",
     "text": [
      "构造函数\n",
      "我被调用了\n"
     ]
    }
   ],
   "source": [
    "# __call__举例\n",
    "class A():\n",
    "    def __init__(self, name = 0):\n",
    "        print(\"构造函数\")\n",
    "        \n",
    "    def __call__(self):\n",
    "        print(\"我被调用了\")\n",
    "        \n",
    "a = A()\n",
    "a()"
   ]
  },
  {
   "cell_type": "code",
   "execution_count": 24,
   "metadata": {},
   "outputs": [
    {
     "name": "stdout",
     "output_type": "stream",
     "text": [
      "构造函数\n",
      "字符串\n"
     ]
    }
   ],
   "source": [
    "# __str__举例\n",
    "class A():\n",
    "    def __init__(self, name = 0):\n",
    "        print(\"构造函数\")\n",
    "        \n",
    "    def __call__(self):\n",
    "        print(\"我被调用了\")\n",
    "        \n",
    "    def __str__(self):\n",
    "        return \"字符串\"\n",
    "        \n",
    "a = A()\n",
    "print(a)"
   ]
  },
  {
   "cell_type": "code",
   "execution_count": 26,
   "metadata": {},
   "outputs": [
    {
     "name": "stdout",
     "output_type": "stream",
     "text": [
      "NoName\n",
      "没找到\n",
      "addr\n",
      "None\n"
     ]
    }
   ],
   "source": [
    "# __getattr__\n",
    "class A():\n",
    "    name = \"NoName\"\n",
    "    age = 18\n",
    "    def __getattr__(self,name):\n",
    "        print(\"没找到\")\n",
    "        print(name)\n",
    "        \n",
    "a = A()\n",
    "print(a.name)\n",
    "print(a.addr)\n",
    "#练习：为什么打印第四句话且是None"
   ]
  },
  {
   "cell_type": "code",
   "execution_count": 30,
   "metadata": {},
   "outputs": [
    {
     "name": "stdout",
     "output_type": "stream",
     "text": [
      "{}\n",
      "设置属性：age\n"
     ]
    }
   ],
   "source": [
    "# __setattr__\n",
    "class A():\n",
    "    def __init__(self):\n",
    "        pass\n",
    "        \n",
    "    def __setattr__(self, name, value):\n",
    "        print(\"设置属性：{0}\".format(name))\n",
    "        # self.name = value 这种语句会导致死循环\n",
    "        # 为了避免死循环，规定统一调用父类魔法函数\n",
    "        super().__setattr__(name,value)\n",
    "p = A()\n",
    "print(p.__dict__)\n",
    "p.age = 18"
   ]
  },
  {
   "cell_type": "code",
   "execution_count": 8,
   "metadata": {},
   "outputs": [
    {
     "name": "stdout",
     "output_type": "stream",
     "text": [
      "one会比two大吗\n",
      "False\n"
     ]
    }
   ],
   "source": [
    "# __gt__案例\n",
    "\n",
    "class Student():\n",
    "    def __init__(self, name):\n",
    "        self._name = name\n",
    "        \n",
    "    def __gt__(self, obj):\n",
    "        print(\"{0}会比{1}大吗\".format(self._name, obj._name))\n",
    "        return self._name > obj._name\n",
    "    \n",
    "# 练习：字符串比较是用什么规则\n",
    "stu1 = Student(\"one\")\n",
    "stu2 = Student(\"two\")\n",
    "\n",
    "print(stu1 > stu2)"
   ]
  },
  {
   "cell_type": "code",
   "execution_count": 13,
   "metadata": {},
   "outputs": [
    {
     "name": "stdout",
     "output_type": "stream",
     "text": [
      "<__main__.Person object at 0x7f2f105f3668>\n",
      "Eating...\n",
      "<class '__main__.Person'>\n",
      "Playing...\n",
      "<class '__main__.Person'>\n",
      "Playing...\n",
      "Saying...\n",
      "Saying...\n"
     ]
    }
   ],
   "source": [
    "# 类和对象三种方法示例\n",
    "class Person():\n",
    "    # 实例方法\n",
    "    def eat(self):\n",
    "        print(self)\n",
    "        print(\"Eating...\")\n",
    "    \n",
    "    # 类方法\n",
    "    # 类方法第一个参数，一般命名为cls，区别于self\n",
    "    @classmethod\n",
    "    def play(cls):\n",
    "        print(cls)\n",
    "        print(\"Playing...\")\n",
    "        \n",
    "    # 静态方法\n",
    "    # 不需要用第一个参数表示自己或者类\n",
    "    @staticmethod\n",
    "    def say():\n",
    "        print(\"Saying...\")\n",
    "        \n",
    "yueyue = Person()\n",
    "\n",
    "# 实例方法\n",
    "yueyue.eat()\n",
    "\n",
    "# 类方法\n",
    "Person.play()\n",
    "yueyue.play() # 实例也可调用类方法\n",
    "\n",
    "# 静态方法\n",
    "Person.say()\n",
    "yueyue.say()"
   ]
  },
  {
   "cell_type": "code",
   "execution_count": 17,
   "metadata": {},
   "outputs": [
    {
     "name": "stdout",
     "output_type": "stream",
     "text": [
      "闻一下\n",
      "问好\n"
     ]
    }
   ],
   "source": [
    "# 抽象\n",
    "class Animal():\n",
    "    # 在父类中只定义接口# \n",
    "    def sayHello(self):\n",
    "        pass\n",
    "    \n",
    "class Dog(Animal):\n",
    "    print(\"闻一下\")\n",
    "\n",
    "class Person(Animal):\n",
    "    print(\"问好\")\n",
    "    \n",
    "d = Dog()\n",
    "d.sayHello()\n",
    "\n",
    "p = Person()\n",
    "p.sayHello()\n"
   ]
  },
  {
   "cell_type": "code",
   "execution_count": 20,
   "metadata": {},
   "outputs": [],
   "source": [
    "# 抽象类的实现\n",
    "\n",
    "import abc\n",
    " \n",
    "# 声明一个类并且指定当前类的元类为抽象类提供的元类\n",
    "class Human(metaclass = abc.ABCMeta):\n",
    "    # 定义一个抽象的方法\n",
    "    @abc.abstractmethod\n",
    "    def smoking(self):\n",
    "        pass\n",
    "    \n",
    "    # 定义类抽象方法\n",
    "    @abc.abstractclassmethod\n",
    "    def drink():\n",
    "        pass\n",
    "    \n",
    "    # 定义静态抽象方法\n",
    "    @abc.abstractstaticmethod\n",
    "    def play():\n",
    "        pass\n",
    "    \n",
    "    def sleep(self):\n",
    "        print(\"Sleeping...\")\n",
    "    "
   ]
  },
  {
   "cell_type": "code",
   "execution_count": 26,
   "metadata": {},
   "outputs": [
    {
     "name": "stdout",
     "output_type": "stream",
     "text": [
      "Saying...\n",
      "Saying...\n"
     ]
    }
   ],
   "source": [
    "# 自定义一个类\n",
    "class A():\n",
    "    pass\n",
    "\n",
    "def say(self):\n",
    "    print(\"Saying...\")\n",
    "    \n",
    "class B():\n",
    "    def say(self):\n",
    "        print(\"Saying...\")\n",
    "    \n",
    "A.say = say# 将函数赋值给A的方法\n",
    "a = A()\n",
    "a.say()\n",
    "b = B()\n",
    "b.say()"
   ]
  },
  {
   "cell_type": "code",
   "execution_count": 30,
   "metadata": {},
   "outputs": [
    {
     "name": "stdout",
     "output_type": "stream",
     "text": [
      "Saying...\n"
     ]
    }
   ],
   "source": [
    "# 自定义类-2\n",
    "from types import MethodType\n",
    "\n",
    "class A():\n",
    "    pass\n",
    "\n",
    "def say(self):\n",
    "    print(\"Saying...\")\n",
    "    \n",
    "a = A()\n",
    "a.say = MethodType(say, A)# 通过Method将函数和类绑定\n",
    "a.say()"
   ]
  },
  {
   "cell_type": "code",
   "execution_count": 44,
   "metadata": {},
   "outputs": [
    {
     "name": "stdout",
     "output_type": "stream",
     "text": [
      "Saying...\n",
      "Talking...\n"
     ]
    }
   ],
   "source": [
    "# 利用type造一个类\n",
    "# 先定义各个成员函数\n",
    "def say(self):\n",
    "    print(\"Saying...\")\n",
    "    \n",
    "def talk(self):\n",
    "    print(\"Talking...\")\n",
    "    \n",
    "# 用type创建类 type(object_or_name, bases, dict)\n",
    "A = type(\"AName\", (object,), {\"say\":say, \"class_talk\":talk})\n",
    "\n",
    "# 正常使用类\n",
    "a = A()\n",
    "dir(a)\n",
    "a.say()\n",
    "a.class_talk()"
   ]
  },
  {
   "cell_type": "code",
   "execution_count": 46,
   "metadata": {},
   "outputs": [
    {
     "name": "stdout",
     "output_type": "stream",
     "text": [
      "我是元类\n",
      "Working...\n",
      "0000\n",
      "NUAA\n"
     ]
    }
   ],
   "source": [
    "# 元类实例\n",
    "# 元类写法固定，它必须继承自type\n",
    "class StudentMetaClass(type):\n",
    "    def __new__(cls, name, bases, attrs):\n",
    "        # 自己的业务处理\n",
    "        print(\"我是元类\")\n",
    "        attrs['id'] = '0000'\n",
    "        attrs['addr'] = \"NUAA\"\n",
    "        # ...\n",
    "        return type.__new__(cls, name, bases, attrs)\n",
    "\n",
    "# 元类定义完就可以使用，使用注意写法\n",
    "class TopStudent(object, metaclass = StudentMetaClass):\n",
    "    def work():\n",
    "        print(\"Working...\")\n",
    "\n",
    "t = TopStudent\n",
    "t.work()\n",
    "print(t.id)\n",
    "print(t.addr)"
   ]
  }
 ],
 "metadata": {
  "kernelspec": {
   "display_name": "Python 3",
   "language": "python",
   "name": "python3"
  },
  "language_info": {
   "codemirror_mode": {
    "name": "ipython",
    "version": 3
   },
   "file_extension": ".py",
   "mimetype": "text/x-python",
   "name": "python",
   "nbconvert_exporter": "python",
   "pygments_lexer": "ipython3",
   "version": "3.7.0"
  }
 },
 "nbformat": 4,
 "nbformat_minor": 2
}
